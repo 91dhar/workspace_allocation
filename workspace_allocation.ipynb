{
 "cells": [
  {
   "cell_type": "code",
   "execution_count": 14,
   "id": "5440c11a",
   "metadata": {},
   "outputs": [],
   "source": [
    "def allocate_seats(workspace_info, num_people):\n",
    "    allocation = {}  # This will be dictionary to store the seat allocations\n",
    "    \n",
    "    # Sorting workspace sizes in descending order to allocate larger workspaces first\n",
    "    sorted_workspaces = sorted(workspace_info.items(), key=lambda x: x[1], reverse=True)\n",
    "    \n",
    "    for workspace, size in sorted_workspaces:\n",
    "        if num_people == 0:\n",
    "            break\n",
    "        \n",
    "        # Calculating the number of seats to allocate to the current workspace\n",
    "        seats_to_allocate = min(size, num_people)\n",
    "        \n",
    "        allocation[workspace] = seats_to_allocate\n",
    "        num_people -= seats_to_allocate\n",
    "    \n",
    "    if num_people > 0:\n",
    "        print(f\"Warning: {num_people} people were not allocated seats.\")\n",
    "    \n",
    "    return allocation"
   ]
  },
  {
   "cell_type": "code",
   "execution_count": 15,
   "id": "9ff4bc89",
   "metadata": {},
   "outputs": [],
   "source": [
    "# Example workspace information and number of people\n",
    "workspace_info = {\n",
    "    \"ODC 1\": 162,\n",
    "    \"ODC 2\": 162,\n",
    "    \"ODC 3\": 45,\n",
    "    \"ODC 4\": 109,\n",
    "    \"ODC 10\": 41,\n",
    "    \"ODC 11\": 150,\n",
    "    \"ODC 12\": 130,\n",
    "    \"ODC 14\": 130,\n",
    "}\n",
    "\n",
    "num_people = 1050"
   ]
  },
  {
   "cell_type": "code",
   "execution_count": 16,
   "id": "ca817079",
   "metadata": {},
   "outputs": [
    {
     "name": "stdout",
     "output_type": "stream",
     "text": [
      "Warning: 121 people were not allocated seats.\n",
      "Seat allocation: {'ODC 1': 162, 'ODC 2': 162, 'ODC 11': 150, 'ODC 12': 130, 'ODC 14': 130, 'ODC 4': 109, 'ODC 3': 45, 'ODC 10': 41}\n"
     ]
    }
   ],
   "source": [
    "seat_allocation = allocate_seats(workspace_info, num_people)\n",
    "print(\"Seat allocation:\", seat_allocation)"
   ]
  },
  {
   "cell_type": "code",
   "execution_count": null,
   "id": "84ef497b",
   "metadata": {},
   "outputs": [],
   "source": []
  }
 ],
 "metadata": {
  "kernelspec": {
   "display_name": "Python 3 (ipykernel)",
   "language": "python",
   "name": "python3"
  },
  "language_info": {
   "codemirror_mode": {
    "name": "ipython",
    "version": 3
   },
   "file_extension": ".py",
   "mimetype": "text/x-python",
   "name": "python",
   "nbconvert_exporter": "python",
   "pygments_lexer": "ipython3",
   "version": "3.9.13"
  }
 },
 "nbformat": 4,
 "nbformat_minor": 5
}
